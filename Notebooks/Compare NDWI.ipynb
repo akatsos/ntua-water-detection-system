{
 "cells": [
  {
   "cell_type": "code",
   "execution_count": 1,
   "id": "d5069a01",
   "metadata": {},
   "outputs": [],
   "source": [
    "import rioxarray\n",
    "import pandas as pd\n",
    "import os"
   ]
  },
  {
   "cell_type": "code",
   "execution_count": 2,
   "id": "d8f9e819",
   "metadata": {},
   "outputs": [],
   "source": [
    "def compare_show_results(ndwi_path, predict_path):\n",
    "    \"\"\"Create NDWI classes and compare to Model Results\"\"\"\n",
    "    xds_ndwi = rioxarray.open_rasterio(ndwi_path)\n",
    "    xds_s1 = rioxarray.open_rasterio(predict_path)\n",
    "    \n",
    "    ndwi = xds_ndwi[0].values.flatten()\n",
    "    water = xds_s1[0].values.flatten()\n",
    "    data = pd.DataFrame({'ndwi': ndwi, 'water': water})\n",
    "    \n",
    "    water_surface = data[ndwi >= 0.2]\n",
    "    flood_moisture = data[(ndwi >= 0) & (ndwi < 0.2)]\n",
    "    moderate_drought = data[(ndwi < 0) & (ndwi >= -0.3)]\n",
    "    drought = data[ndwi < -0.3]\n",
    "        \n",
    "    water_pc = round(len(water_surface[water_surface['water'] == 1]) / len(water_surface) * 100, 2)\n",
    "    flood_pc = round(len(flood_moisture[flood_moisture['water'] == 1]) / len(flood_moisture) * 100, 2)\n",
    "    m_drought_pc = round(len(moderate_drought[moderate_drought['water'] == 1]) / len(moderate_drought) * 100, 2)\n",
    "    drought_pc = round(len(drought[drought['water'] == 1]) / len(drought) * 100, 2)\n",
    "\n",
    "    print('Identified: ')\n",
    "    print('Water as water:', water_pc, '%')\n",
    "    print('Flood/Moisture as water:', flood_pc,'%')\n",
    "    print('Moderate Drought as water:', m_drought_pc,'%')\n",
    "    print('Drought as water:', drought_pc,'%')\n",
    "\n",
    "    \n",
    "def compare_show_ems(ems_path, predict_path):\n",
    "    \"\"\"Get EMS Water/Land and compare to Model Results\"\"\"\n",
    "    xds_ems = rioxarray.open_rasterio(ems_path)\n",
    "    xds_s1 = rioxarray.open_rasterio(predict_path)\n",
    "\n",
    "    ems = xds_ems[0].values.flatten()\n",
    "    water_s1 = xds_s1[0].values.flatten()\n",
    "    data = pd.DataFrame({'ems': ems, 'water_s1': water_s1})\n",
    "\n",
    "    water_ems = data[data['ems'] == 1]\n",
    "    land_ems = data[data['ems'] == 0]\n",
    "\n",
    "    water_pc = round(len(water_ems[water_ems['water_s1'] == 1]) / len(water_ems) * 100, 2)\n",
    "    land_pc = round(len(land_ems[land_ems['water_s1'] == 0]) / len(land_ems) * 100, 2)\n",
    "\n",
    "    print('Water as water:', water_pc, '%')\n",
    "    print('Land as land:', land_pc, '%')"
   ]
  },
  {
   "cell_type": "markdown",
   "id": "4d40de76",
   "metadata": {},
   "source": [
    "## Sentinel-2"
   ]
  },
  {
   "cell_type": "code",
   "execution_count": 3,
   "id": "4e9dd12f",
   "metadata": {},
   "outputs": [
    {
     "name": "stdout",
     "output_type": "stream",
     "text": [
      "Identified: \n",
      "Water as water: 88.26 %\n",
      "Flood/Moisture as water: 59.32 %\n",
      "Moderate Drought as water: 5.84 %\n",
      "Drought as water: 0.36 %\n"
     ]
    }
   ],
   "source": [
    "ndwi_path = 'Images/Sentinel-2/ndwi_1.tif'\n",
    "predict_path = 'Images/Sentinel-2/s1_1.tif'\n",
    "\n",
    "compare_show_results(ndwi_path, predict_path)"
   ]
  },
  {
   "cell_type": "code",
   "execution_count": 4,
   "id": "d8dbc986",
   "metadata": {},
   "outputs": [
    {
     "name": "stdout",
     "output_type": "stream",
     "text": [
      "Identified: \n",
      "Water as water: 76.96 %\n",
      "Flood/Moisture as water: 39.34 %\n",
      "Moderate Drought as water: 2.3 %\n",
      "Drought as water: 0.2 %\n"
     ]
    }
   ],
   "source": [
    "ndwi_path = 'Images/Sentinel-2/ndwi_2.tif'\n",
    "predict_path = 'Images/Sentinel-2/s1_2.tif'\n",
    "\n",
    "compare_show_results(ndwi_path, predict_path)"
   ]
  },
  {
   "cell_type": "code",
   "execution_count": 5,
   "id": "5b9a0ffe",
   "metadata": {},
   "outputs": [
    {
     "name": "stdout",
     "output_type": "stream",
     "text": [
      "Identified: \n",
      "Water as water: 93.77 %\n",
      "Flood/Moisture as water: 73.64 %\n",
      "Moderate Drought as water: 22.61 %\n",
      "Drought as water: 3.11 %\n"
     ]
    }
   ],
   "source": [
    "ndwi_path = 'Images/Sentinel-2/ndwi_3.tif'\n",
    "predict_path = 'Images/Sentinel-2/s1_3.tif'\n",
    "\n",
    "compare_show_results(ndwi_path, predict_path)"
   ]
  },
  {
   "cell_type": "markdown",
   "id": "224efd26",
   "metadata": {},
   "source": [
    "### All Sentinel-2 patches"
   ]
  },
  {
   "cell_type": "code",
   "execution_count": 6,
   "id": "6461df9b",
   "metadata": {},
   "outputs": [
    {
     "name": "stdout",
     "output_type": "stream",
     "text": [
      "Identified: \n",
      "Water as water: 84.86 %\n",
      "Flood/Moisture as water: 56.08 %\n",
      "Moderate Drought as water: 5.55 %\n",
      "Drought as water: 0.47 %\n"
     ]
    }
   ],
   "source": [
    "data_all = pd.DataFrame({'ndwi': [], 'water': []})\n",
    "\n",
    "path = 'Images/Sentinel-2/'\n",
    "\n",
    "ndwi_l = ['ndwi_1.tif', 'ndwi_2.tif', 'ndwi_3.tif']\n",
    "predicted_l = ['s1_1.tif', 's1_2.tif', 's1_3.tif']\n",
    "\n",
    "for ndwif, predictedf in zip(ndwi_l, predicted_l):\n",
    "    xds_ndwi = rioxarray.open_rasterio(path + ndwif)\n",
    "    xds_s1 = rioxarray.open_rasterio(path + predictedf)\n",
    "    \n",
    "    ndwi = xds_ndwi[0].values.flatten()\n",
    "    water = xds_s1[0].values.flatten()\n",
    "    data = pd.DataFrame({'ndwi': ndwi, 'water': water})\n",
    "\n",
    "    data_all = data_all.append(data)\n",
    "\n",
    "water_surface = data_all[data_all['ndwi'] >= 0.2]\n",
    "flood_moisture = data_all[(data_all['ndwi'] >= 0) & (data_all['ndwi'] < 0.2)]\n",
    "moderate_drought = data_all[(data_all['ndwi'] < 0) & (data_all['ndwi'] >= -0.3)]\n",
    "drought = data_all[data_all['ndwi'] < -0.3]\n",
    "\n",
    "water_pc = round(len(water_surface[water_surface['water'] == 1]) / len(water_surface) * 100, 2)\n",
    "flood_pc = round(len(flood_moisture[flood_moisture['water'] == 1]) / len(flood_moisture) * 100, 2)\n",
    "m_drought_pc = round(len(moderate_drought[moderate_drought['water'] == 1]) / len(moderate_drought) * 100, 2)\n",
    "drought_pc = round(len(drought[drought['water'] == 1]) / len(drought) * 100, 2)\n",
    "\n",
    "print('Identified: ')\n",
    "print('Water as water:', water_pc, '%')\n",
    "print('Flood/Moisture as water:', flood_pc,'%')\n",
    "print('Moderate Drought as water:', m_drought_pc,'%')\n",
    "print('Drought as water:', drought_pc,'%')"
   ]
  },
  {
   "cell_type": "markdown",
   "id": "dbbeca72",
   "metadata": {},
   "source": [
    "## PlanetScope"
   ]
  },
  {
   "cell_type": "code",
   "execution_count": 7,
   "id": "68439beb",
   "metadata": {},
   "outputs": [
    {
     "name": "stdout",
     "output_type": "stream",
     "text": [
      "Identified: \n",
      "Water as water: 97.94 %\n",
      "Flood/Moisture as water: 90.66 %\n",
      "Moderate Drought as water: 34.72 %\n",
      "Drought as water: 2.03 %\n"
     ]
    }
   ],
   "source": [
    "ndwi_path = 'Images/Planet/58_1_aligned.tif'\n",
    "predict_path = 'Images/Planet/58_1_S1_aligned.tif'\n",
    "\n",
    "compare_show_results(ndwi_path, predict_path)"
   ]
  },
  {
   "cell_type": "code",
   "execution_count": 8,
   "id": "0081eb9f",
   "metadata": {},
   "outputs": [
    {
     "name": "stdout",
     "output_type": "stream",
     "text": [
      "Identified: \n",
      "Water as water: 97.84 %\n",
      "Flood/Moisture as water: 84.62 %\n",
      "Moderate Drought as water: 56.3 %\n",
      "Drought as water: 1.53 %\n"
     ]
    }
   ],
   "source": [
    "ndwi_path = 'Images/Planet/58_2_aligned.tif'\n",
    "predict_path = 'Images/Planet/58_2_S1_aligned.tif'\n",
    "\n",
    "compare_show_results(ndwi_path, predict_path)"
   ]
  },
  {
   "cell_type": "code",
   "execution_count": 9,
   "id": "4f7b9494",
   "metadata": {},
   "outputs": [
    {
     "name": "stdout",
     "output_type": "stream",
     "text": [
      "Identified: \n",
      "Water as water: 98.97 %\n",
      "Flood/Moisture as water: 88.9 %\n",
      "Moderate Drought as water: 62.47 %\n",
      "Drought as water: 3.64 %\n"
     ]
    }
   ],
   "source": [
    "ndwi_path = 'Images/Planet/79_1_aligned.tif'\n",
    "predict_path = 'Images/Planet/79_1_S1_aligned.tif'\n",
    "\n",
    "compare_show_results(ndwi_path, predict_path)"
   ]
  },
  {
   "cell_type": "code",
   "execution_count": 10,
   "id": "78f41090",
   "metadata": {},
   "outputs": [
    {
     "name": "stdout",
     "output_type": "stream",
     "text": [
      "Identified: \n",
      "Water as water: 98.68 %\n",
      "Flood/Moisture as water: 95.08 %\n",
      "Moderate Drought as water: 50.36 %\n",
      "Drought as water: 1.48 %\n"
     ]
    }
   ],
   "source": [
    "ndwi_path = 'Images/Planet/79_2_aligned.tif'\n",
    "predict_path = 'Images/Planet/79_2_S1_aligned.tif'\n",
    "\n",
    "compare_show_results(ndwi_path, predict_path)"
   ]
  },
  {
   "cell_type": "code",
   "execution_count": 11,
   "id": "ddf606aa",
   "metadata": {},
   "outputs": [
    {
     "name": "stdout",
     "output_type": "stream",
     "text": [
      "Identified: \n",
      "Water as water: 99.34 %\n",
      "Flood/Moisture as water: 96.74 %\n",
      "Moderate Drought as water: 58.35 %\n",
      "Drought as water: 2.99 %\n"
     ]
    }
   ],
   "source": [
    "ndwi_path = 'Images/Planet/00_1_aligned.tif'\n",
    "predict_path = 'Images/Planet/00_1_S1_aligned.tif'\n",
    "\n",
    "compare_show_results(ndwi_path, predict_path)"
   ]
  },
  {
   "cell_type": "code",
   "execution_count": 12,
   "id": "4f517b70",
   "metadata": {},
   "outputs": [
    {
     "name": "stdout",
     "output_type": "stream",
     "text": [
      "Identified: \n",
      "Water as water: 99.68 %\n",
      "Flood/Moisture as water: 98.04 %\n",
      "Moderate Drought as water: 69.52 %\n",
      "Drought as water: 4.62 %\n"
     ]
    }
   ],
   "source": [
    "ndwi_path = 'Images/Planet/00_2_aligned.tif'\n",
    "predict_path = 'Images/Planet/00_2_S1_aligned.tif'\n",
    "\n",
    "compare_show_results(ndwi_path, predict_path)"
   ]
  },
  {
   "cell_type": "markdown",
   "id": "f9b1f431",
   "metadata": {},
   "source": [
    "### All PlanetScope Images"
   ]
  },
  {
   "cell_type": "code",
   "execution_count": 13,
   "id": "bc0c83db",
   "metadata": {},
   "outputs": [
    {
     "name": "stdout",
     "output_type": "stream",
     "text": [
      "Identified: \n",
      "Water as water: 98.45 %\n",
      "Flood/Moisture as water: 93.38 %\n",
      "Moderate Drought as water: 59.49 %\n",
      "Drought as water: 2.63 %\n"
     ]
    }
   ],
   "source": [
    "data_all = pd.DataFrame({'ndwi': [], 'water': []})\n",
    "ndwi_flag, s1_flag = 0, 0\n",
    "\n",
    "\n",
    "path = 'Images/Planet/'\n",
    "for file in os.listdir(path):\n",
    "    \n",
    "    xds = rioxarray.open_rasterio(path + file)\n",
    "    values = xds.values.flatten()\n",
    "    \n",
    "    if '_S1_' not in file:\n",
    "        ndwi = values\n",
    "        ndwi_flag = 1\n",
    "    else:\n",
    "        s1 = values\n",
    "        s1_flag = 1\n",
    "    \n",
    "    if ndwi_flag and s1_flag:\n",
    "        data = pd.DataFrame({'ndwi': ndwi, 'water': s1})\n",
    "        data_all = data_all.append(data)\n",
    "        ndwi_flag, s1_flag = 0, 0\n",
    "        \n",
    "    \n",
    "water_surface = data_all[data_all['ndwi'] >= 0.2]\n",
    "flood_moisture = data_all[(data_all['ndwi'] >= 0) & (data_all['ndwi'] < 0.2)]\n",
    "moderate_drought = data_all[(data_all['ndwi'] < 0) & (data_all['ndwi'] >= -0.3)]\n",
    "drought = data_all[data_all['ndwi'] < -0.3]\n",
    "\n",
    "water_pc = round(len(water_surface[water_surface['water'] == 1]) / len(water_surface) * 100, 2)\n",
    "flood_pc = round(len(flood_moisture[flood_moisture['water'] == 1]) / len(flood_moisture) * 100, 2)\n",
    "m_drought_pc = round(len(moderate_drought[moderate_drought['water'] == 1]) / len(moderate_drought) * 100, 2)\n",
    "drought_pc = round(len(drought[drought['water'] == 1]) / len(drought) * 100, 2)\n",
    "\n",
    "print('Identified: ')\n",
    "print('Water as water:', water_pc, '%')\n",
    "print('Flood/Moisture as water:', flood_pc,'%')\n",
    "print('Moderate Drought as water:', m_drought_pc,'%')\n",
    "print('Drought as water:', drought_pc,'%')"
   ]
  },
  {
   "cell_type": "markdown",
   "id": "720095a4",
   "metadata": {},
   "source": [
    "## EMS-117"
   ]
  },
  {
   "cell_type": "code",
   "execution_count": 14,
   "id": "96cc465f",
   "metadata": {},
   "outputs": [
    {
     "name": "stdout",
     "output_type": "stream",
     "text": [
      "Water as water: 67.2 %\n",
      "Land as land: 99.96 %\n"
     ]
    }
   ],
   "source": [
    "ems_path = 'Images/EMSR117/EMSR117_01_Raster.tif'\n",
    "predict_path = 'Images/EMSR117_01_S1A_aligned.tif'\n",
    "\n",
    "compare_show_ems(ems_path, predict_path)"
   ]
  },
  {
   "cell_type": "code",
   "execution_count": 15,
   "id": "0bed35c8",
   "metadata": {},
   "outputs": [
    {
     "name": "stdout",
     "output_type": "stream",
     "text": [
      "Water as water: 52.51 %\n",
      "Land as land: 99.97 %\n"
     ]
    }
   ],
   "source": [
    "ems_path = 'Images/EMSR117/EMSR117_02_Raster.tif'\n",
    "predict_path = 'Images/EMSR117/EMSR117_02_S1A_aligned.tif'\n",
    "\n",
    "compare_show_ems(ems_path, predict_path)"
   ]
  },
  {
   "cell_type": "code",
   "execution_count": 16,
   "id": "6d1bfa99",
   "metadata": {},
   "outputs": [
    {
     "name": "stdout",
     "output_type": "stream",
     "text": [
      "Water as water: 56.24 %\n",
      "Land as land: 99.81 %\n"
     ]
    }
   ],
   "source": [
    "ems_path = 'Images/EMSR117/EMSR117_03_Raster.tif'\n",
    "predict_path = 'Images/EMSR117/EMSR117_03_S1A_aligned.tif'\n",
    "\n",
    "compare_show_ems(ems_path, predict_path)"
   ]
  },
  {
   "cell_type": "markdown",
   "id": "9610d134",
   "metadata": {},
   "source": [
    "### All EMS-117"
   ]
  },
  {
   "cell_type": "code",
   "execution_count": 26,
   "id": "8d99ccf3",
   "metadata": {},
   "outputs": [
    {
     "name": "stdout",
     "output_type": "stream",
     "text": [
      "Water as water: 59.5 %\n",
      "Land as land: 99.95 %\n"
     ]
    }
   ],
   "source": [
    "data_all = pd.DataFrame({'ems': [], 'water_s1': []})\n",
    "\n",
    "path = 'Images/EMSR117/'\n",
    "\n",
    "ndwi_l = ['EMSR117_01_Raster.tif', 'EMSR117_02_Raster.tif', 'EMSR117_03_Raster.tif']\n",
    "predicted_l = ['EMSR117_01_S1A_aligned.tif', 'EMSR117_02_S1A_aligned.tif', 'EMSR117_03_S1A_aligned.tif']\n",
    "\n",
    "for ndwif, predictedf in zip(ndwi_l, predicted_l):\n",
    "    xds_ndwi = rioxarray.open_rasterio(path + ndwif)\n",
    "    xds_s1 = rioxarray.open_rasterio(path + predictedf)\n",
    "    \n",
    "    ems = xds_ndwi[0].values.flatten()\n",
    "    water_s1 = xds_s1[0].values.flatten()\n",
    "    data = pd.DataFrame({'ems': ems, 'water_s1': water_s1})\n",
    "\n",
    "    data_all = data_all.append(data)\n",
    "\n",
    "water_ems = data_all[data_all['ems'] == 1]\n",
    "land_ems = data_all[data_all['ems'] == 0]\n",
    "\n",
    "water_pc = round(len(water_ems[water_ems['water_s1'] == 1]) / len(water_ems) * 100, 2)\n",
    "land_pc = round(len(land_ems[land_ems['water_s1'] == 0]) / len(land_ems) * 100, 2)\n",
    "\n",
    "print('Water as water:', water_pc, '%')\n",
    "print('Land as land:', land_pc, '%')"
   ]
  },
  {
   "cell_type": "markdown",
   "id": "4aff67d2",
   "metadata": {},
   "source": [
    "## EMS-277"
   ]
  },
  {
   "cell_type": "code",
   "execution_count": 17,
   "id": "e9c2c143",
   "metadata": {},
   "outputs": [
    {
     "name": "stdout",
     "output_type": "stream",
     "text": [
      "Water as water: 89.63 %\n",
      "Land as land: 99.27 %\n"
     ]
    }
   ],
   "source": [
    "ems_path = 'Images/EMSR277/01_EMS.tif'\n",
    "predict_path = 'Images/EMSR277/01_S1.tif'\n",
    "\n",
    "compare_show_ems(ems_path, predict_path)"
   ]
  },
  {
   "cell_type": "code",
   "execution_count": 18,
   "id": "dfe79e13",
   "metadata": {},
   "outputs": [
    {
     "name": "stdout",
     "output_type": "stream",
     "text": [
      "Water as water: 90.06 %\n",
      "Land as land: 99.31 %\n"
     ]
    }
   ],
   "source": [
    "ems_path = 'Images/EMSR277/02_EMS.tif'\n",
    "predict_path = 'Images/EMSR277/02_S1.tif'\n",
    "\n",
    "compare_show_ems(ems_path, predict_path)"
   ]
  },
  {
   "cell_type": "code",
   "execution_count": 19,
   "id": "1d64ce70",
   "metadata": {},
   "outputs": [
    {
     "name": "stdout",
     "output_type": "stream",
     "text": [
      "Water as water: 86.17 %\n",
      "Land as land: 99.33 %\n"
     ]
    }
   ],
   "source": [
    "ems_path = 'Images/EMSR277/03_EMS.tif'\n",
    "predict_path = 'Images/EMSR277/03_S1.tif'\n",
    "\n",
    "compare_show_ems(ems_path, predict_path)"
   ]
  },
  {
   "cell_type": "code",
   "execution_count": 20,
   "id": "77c992b3",
   "metadata": {},
   "outputs": [
    {
     "name": "stdout",
     "output_type": "stream",
     "text": [
      "Water as water: 91.56 %\n",
      "Land as land: 96.33 %\n"
     ]
    }
   ],
   "source": [
    "ems_path = 'Images/EMSR277/04_EMS.tif'\n",
    "predict_path = 'Images/EMSR277/04_S1.tif'\n",
    "\n",
    "compare_show_ems(ems_path, predict_path)"
   ]
  },
  {
   "cell_type": "markdown",
   "id": "9e498732",
   "metadata": {},
   "source": [
    "### All EMS-277"
   ]
  },
  {
   "cell_type": "code",
   "execution_count": 27,
   "id": "4dc51206",
   "metadata": {},
   "outputs": [
    {
     "name": "stdout",
     "output_type": "stream",
     "text": [
      "Water as water: 89.87 %\n",
      "Land as land: 98.22 %\n"
     ]
    }
   ],
   "source": [
    "data_all = pd.DataFrame({'ems': [], 'water_s1': []})\n",
    "\n",
    "path = 'Images/EMSR277/'\n",
    "\n",
    "ndwi_l = ['01_EMS.tif', '02_EMS.tif', '03_EMS.tif', '04_EMS.tif']\n",
    "predicted_l = ['01_S1.tif', '02_S1.tif', '03_S1.tif', '04_S1.tif']\n",
    "\n",
    "for ndwif, predictedf in zip(ndwi_l, predicted_l):\n",
    "    xds_ndwi = rioxarray.open_rasterio(path + ndwif)\n",
    "    xds_s1 = rioxarray.open_rasterio(path + predictedf)\n",
    "    \n",
    "    ems = xds_ndwi[0].values.flatten()\n",
    "    water_s1 = xds_s1[0].values.flatten()\n",
    "    data = pd.DataFrame({'ems': ems, 'water_s1': water_s1})\n",
    "\n",
    "    data_all = data_all.append(data)\n",
    "\n",
    "water_ems = data_all[data_all['ems'] == 1]\n",
    "land_ems = data_all[data_all['ems'] == 0]\n",
    "\n",
    "water_pc = round(len(water_ems[water_ems['water_s1'] == 1]) / len(water_ems) * 100, 2)\n",
    "land_pc = round(len(land_ems[land_ems['water_s1'] == 0]) / len(land_ems) * 100, 2)\n",
    "\n",
    "print('Water as water:', water_pc, '%')\n",
    "print('Land as land:', land_pc, '%')"
   ]
  }
 ],
 "metadata": {
  "kernelspec": {
   "display_name": "Python 3 (ipykernel)",
   "language": "python",
   "name": "python3"
  },
  "language_info": {
   "codemirror_mode": {
    "name": "ipython",
    "version": 3
   },
   "file_extension": ".py",
   "mimetype": "text/x-python",
   "name": "python",
   "nbconvert_exporter": "python",
   "pygments_lexer": "ipython3",
   "version": "3.8.10"
  }
 },
 "nbformat": 4,
 "nbformat_minor": 5
}
