{
 "cells": [
  {
   "cell_type": "code",
   "execution_count": 1,
   "id": "cbd64871",
   "metadata": {},
   "outputs": [],
   "source": [
    "import warnings\n",
    "warnings.filterwarnings('ignore')\n",
    "\n",
    "import datacube\n",
    "import xarray as xr\n",
    "import numpy as np\n",
    "import matplotlib.pyplot as plt\n",
    "%matplotlib inline"
   ]
  },
  {
   "cell_type": "code",
   "execution_count": 2,
   "id": "663cd75b",
   "metadata": {},
   "outputs": [],
   "source": [
    "def data_plot(VV, VH, water):\n",
    "    \"\"\"Plot VV, VH, Water/Land in one line\"\"\"\n",
    "    fig, axes = plt.subplots(nrows=1, ncols=3, figsize=(16,16))\n",
    "    axes[0].imshow(np.squeeze(VV, 0))\n",
    "    axes[0].set_title('VV Backscatter')\n",
    "    axes[1].imshow(np.squeeze(VH, 0))\n",
    "    axes[1].set_title('VH Backscatter')\n",
    "    axes[2].imshow(water)\n",
    "    axes[2].set_title('Water - Land')\n",
    "    fig.tight_layout()"
   ]
  },
  {
   "cell_type": "code",
   "execution_count": 3,
   "id": "e3b67971",
   "metadata": {},
   "outputs": [],
   "source": [
    "dc = datacube.Datacube(app=\"gt-data\")\n",
    "product_name = \"S1_GRD_Train\"\n",
    "res = (-0.00008983, 0.00008983)\n",
    "resample = \"nearest\""
   ]
  },
  {
   "cell_type": "code",
   "execution_count": 4,
   "id": "8e7ce378",
   "metadata": {},
   "outputs": [],
   "source": [
    "dt = \"2021-05-10T16:08:22\"\n",
    "\n",
    "ds1 = dc.load(product=product_name,\n",
    "            time=(dt, dt),\n",
    "            y = (41.68, 41.70),\n",
    "            x = (26.4, 26.42),\n",
    "            resolution = res,\n",
    "            resampling = resample\n",
    "        )\n",
    "\n",
    "vh1 = ds1['VH'].values.squeeze()\n",
    "vv1 = ds1['VV'].values.squeeze()\n",
    "\n",
    "vh_thr1 = xr.where(vh1 > -22, 0, 1)\n",
    "vv_thr1 = xr.where(vv1 > -16.3, 0, 1)\n",
    "water1 = xr.ufuncs.minimum(vv_thr1, vh_thr1)\n",
    "\n",
    "# data_plot(ds1.VV, ds1.VH, water1)"
   ]
  },
  {
   "cell_type": "code",
   "execution_count": 5,
   "id": "8101201a",
   "metadata": {},
   "outputs": [],
   "source": [
    "dt = \"2021-11-17T04:22:58\"\n",
    "\n",
    "ds2 = dc.load(product=product_name,\n",
    "            time=(dt, dt),\n",
    "            y = (41.18, 41.19),\n",
    "            x = (26.58, 26.588),\n",
    "            resolution = res,\n",
    "            resampling = resample\n",
    "        )\n",
    "\n",
    "vh2 = ds2['VH'].values.squeeze()\n",
    "vv2 = ds2['VV'].values.squeeze()\n",
    "\n",
    "vv_vh_r2 = vv2+vh2\n",
    "water2 = xr.where(vv_vh_r2 > -42, 0, 1)\n",
    "\n",
    "# data_plot(ds2.VV, ds2.VH, water2)"
   ]
  },
  {
   "cell_type": "code",
   "execution_count": 6,
   "id": "19122e76",
   "metadata": {},
   "outputs": [],
   "source": [
    "dt = \"2021-01-15T04:21:54\"\n",
    "\n",
    "ds3 = dc.load(product=product_name,\n",
    "            time=(dt, dt),\n",
    "            y = (41.27, 41.29),\n",
    "            x = (26.675, 26.695),\n",
    "            resolution = res,\n",
    "            resampling = resample\n",
    "        )\n",
    "\n",
    "vh3 = ds3['VH'].values.squeeze()\n",
    "vv3 = ds3['VV'].values.squeeze()\n",
    "\n",
    "vh_thr3 = xr.where(vh3 > -20.5, 0, 1)\n",
    "vv_thr3 = xr.where(vv3 > -13, 0, 1)\n",
    "water3 = xr.ufuncs.minimum(vv_thr3, vh_thr3)\n",
    "\n",
    "# data_plot(ds3.VV, ds3.VH, water3)"
   ]
  },
  {
   "cell_type": "code",
   "execution_count": 7,
   "id": "1117cd2d",
   "metadata": {},
   "outputs": [],
   "source": [
    "dt = \"2018-02-28T16:31:12\"\n",
    "\n",
    "ds4 = dc.load(product=product_name,\n",
    "            time=(dt, dt),\n",
    "            y = (39.665, 39.68),\n",
    "            x = (22.43, 22.445),\n",
    "            resolution = res,\n",
    "            resampling = resample\n",
    "        )\n",
    "\n",
    "vh4 = ds4['VH'].values.squeeze()\n",
    "vv4 = ds4['VV'].values.squeeze()\n",
    "\n",
    "vh_thr4 = xr.where(vh4 > -20, 0, 1)\n",
    "vv_thr4 = xr.where(vv4 > -16, 0, 1)\n",
    "water4 = xr.ufuncs.minimum(vv_thr4, vh_thr4)\n",
    "\n",
    "# data_plot(ds4.VV, ds4.VH, water4)"
   ]
  },
  {
   "cell_type": "code",
   "execution_count": 8,
   "id": "413ab6ea",
   "metadata": {},
   "outputs": [],
   "source": [
    "ds5 = dc.load(product=product_name,\n",
    "            time=(dt, dt),\n",
    "            y = (39.042, 39.064),\n",
    "            x = (22.23, 22.25),\n",
    "            resolution = res,\n",
    "            resampling = resample\n",
    "        )\n",
    "\n",
    "vh5 = ds5['VH'].values.squeeze()\n",
    "vv5 = ds5['VV'].values.squeeze()\n",
    "\n",
    "vh_thr5 = xr.where(vh5 > -19, 0, 1)\n",
    "vv_thr5 = xr.where(vv5 > -16, 0, 1)\n",
    "water5 = xr.ufuncs.minimum(vv_thr5, vh_thr5)\n",
    "\n",
    "# data_plot(ds5.VV, ds5.VH, water5)"
   ]
  },
  {
   "cell_type": "code",
   "execution_count": 9,
   "id": "843ea032",
   "metadata": {},
   "outputs": [],
   "source": [
    "ds6 = dc.load(product=product_name,\n",
    "            time=(dt, dt),\n",
    "            y = (39.5, 39.52),\n",
    "            x = (22.06, 22.08),\n",
    "            resolution = res,\n",
    "            resampling = resample\n",
    "        )\n",
    "\n",
    "vh6 = ds6['VH'].values.squeeze()\n",
    "vv6 = ds6['VV'].values.squeeze()\n",
    "\n",
    "vh_thr6 = xr.where(vh6 > -20, 0, 1)\n",
    "vv_thr6 = xr.where(vv6 > -16, 0, 1)\n",
    "water6 = xr.ufuncs.minimum(vv_thr6, vh_thr6)\n",
    "\n",
    "# data_plot(ds6.VV, ds6.VH, water6)"
   ]
  },
  {
   "cell_type": "code",
   "execution_count": 10,
   "id": "b1f63939",
   "metadata": {},
   "outputs": [
    {
     "name": "stdout",
     "output_type": "stream",
     "text": [
      "(3, 243019)\n"
     ]
    }
   ],
   "source": [
    "vh_f = np.append(vh1.flatten(), vh2.flatten())\n",
    "vh_f = np.append(vh_f, vh3.flatten())\n",
    "vh_f = np.append(vh_f, vh4.flatten())\n",
    "vh_f = np.append(vh_f, vh5.flatten())\n",
    "vh_f = np.append(vh_f, vh6.flatten())\n",
    "\n",
    "vv_f = np.append(vv1.flatten(), vv2.flatten())\n",
    "vv_f = np.append(vv_f, vv3.flatten())\n",
    "vv_f = np.append(vv_f, vv4.flatten())\n",
    "vv_f = np.append(vv_f, vv5.flatten())\n",
    "vv_f = np.append(vv_f, vv6.flatten())\n",
    "\n",
    "water_f = np.append(water1.flatten(), water2.flatten())\n",
    "water_f = np.append(water_f, water3.flatten())\n",
    "water_f = np.append(water_f, water4.flatten())\n",
    "water_f = np.append(water_f, water5.flatten())\n",
    "water_f = np.append(water_f, water6.flatten())\n",
    "\n",
    "data_field = np.stack((vh_f, vv_f, water_f), axis=0)\n",
    "print(data_field.shape)\n",
    "\n",
    "np.save('gt_data_field.npy', data_field)"
   ]
  }
 ],
 "metadata": {
  "kernelspec": {
   "display_name": "Python 3 (ipykernel)",
   "language": "python",
   "name": "python3"
  },
  "language_info": {
   "codemirror_mode": {
    "name": "ipython",
    "version": 3
   },
   "file_extension": ".py",
   "mimetype": "text/x-python",
   "name": "python",
   "nbconvert_exporter": "python",
   "pygments_lexer": "ipython3",
   "version": "3.8.10"
  }
 },
 "nbformat": 4,
 "nbformat_minor": 5
}
