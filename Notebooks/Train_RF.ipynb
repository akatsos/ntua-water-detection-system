{
 "cells": [
  {
   "cell_type": "code",
   "execution_count": null,
   "id": "95e50134",
   "metadata": {},
   "outputs": [],
   "source": [
    "from sklearn.ensemble import RandomForestClassifier\n",
    "from sklearn.model_selection import train_test_split\n",
    "from sklearn.metrics import confusion_matrix, ConfusionMatrixDisplay, accuracy_score, classification_report\n",
    "import scikitplot as skplt\n",
    "\n",
    "import numpy as np\n",
    "import matplotlib.pyplot as plt\n",
    "from joblib import dump"
   ]
  },
  {
   "cell_type": "markdown",
   "id": "05c3e127",
   "metadata": {},
   "source": [
    "### Load Data"
   ]
  },
  {
   "cell_type": "code",
   "execution_count": null,
   "id": "5bef0b46",
   "metadata": {},
   "outputs": [],
   "source": [
    "data = np.load('gt_data.npy')\n",
    "\n",
    "X = np.stack((data[0], data[1]), axis=1)\n",
    "y = data[2]"
   ]
  },
  {
   "cell_type": "code",
   "execution_count": null,
   "id": "af118857",
   "metadata": {},
   "outputs": [],
   "source": [
    "land, water = len(y[np.where(y==0)]), len(y[np.where(y==1)])\n",
    "print('Total Pixels:', len(y))\n",
    "print('Land: ', land)\n",
    "print('Water: ', water)"
   ]
  },
  {
   "cell_type": "markdown",
   "id": "503a5b77",
   "metadata": {},
   "source": [
    "### Split Train/Test data"
   ]
  },
  {
   "cell_type": "code",
   "execution_count": null,
   "id": "9be53a64",
   "metadata": {},
   "outputs": [],
   "source": [
    "# 70% Train, 30% Test\n",
    "X_train, X_test, y_train, y_test = train_test_split(X, y , test_size=0.3)\n",
    "\n",
    "print('Training: ', y_train.shape)\n",
    "print('Test: ',y_test.shape)"
   ]
  },
  {
   "cell_type": "markdown",
   "id": "7bf1a8a4",
   "metadata": {},
   "source": [
    "### Fit & Predict"
   ]
  },
  {
   "cell_type": "code",
   "execution_count": null,
   "id": "7015b5d6",
   "metadata": {},
   "outputs": [],
   "source": [
    "clf = RandomForestClassifier(n_estimators=4, max_depth=4, n_jobs=-1)"
   ]
  },
  {
   "cell_type": "code",
   "execution_count": null,
   "id": "a989bd33",
   "metadata": {},
   "outputs": [],
   "source": [
    "clf.fit(X_train, y_train)"
   ]
  },
  {
   "cell_type": "code",
   "execution_count": null,
   "id": "9d2cce2c",
   "metadata": {},
   "outputs": [],
   "source": [
    "pred = clf.predict(X_test)"
   ]
  },
  {
   "cell_type": "markdown",
   "id": "86f5fdd2",
   "metadata": {},
   "source": [
    "### Results"
   ]
  },
  {
   "cell_type": "code",
   "execution_count": null,
   "id": "206ac873",
   "metadata": {},
   "outputs": [],
   "source": [
    "cm = confusion_matrix(y_test, pred)\n",
    "disp = ConfusionMatrixDisplay(confusion_matrix=cm, display_labels=['land', 'water'])\n",
    "\n",
    "disp.plot()\n",
    "plt.show()"
   ]
  },
  {
   "cell_type": "code",
   "execution_count": null,
   "id": "3c2cae8c",
   "metadata": {},
   "outputs": [],
   "source": [
    "accuracy_score(y_test, pred)"
   ]
  },
  {
   "cell_type": "code",
   "execution_count": null,
   "id": "11e64acc",
   "metadata": {},
   "outputs": [],
   "source": [
    "print(classification_report(y_test, pred, target_names=['land', 'water']))"
   ]
  },
  {
   "cell_type": "code",
   "execution_count": null,
   "id": "0c7ebecd",
   "metadata": {},
   "outputs": [],
   "source": [
    "dump(clf, 'RandomForest.joblib')"
   ]
  }
 ],
 "metadata": {
  "kernelspec": {
   "display_name": "Python 3 (ipykernel)",
   "language": "python",
   "name": "python3"
  },
  "language_info": {
   "codemirror_mode": {
    "name": "ipython",
    "version": 3
   },
   "file_extension": ".py",
   "mimetype": "text/x-python",
   "name": "python",
   "nbconvert_exporter": "python",
   "pygments_lexer": "ipython3",
   "version": "3.8.10"
  }
 },
 "nbformat": 4,
 "nbformat_minor": 5
}
